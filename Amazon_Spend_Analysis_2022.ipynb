{
  "nbformat": 4,
  "nbformat_minor": 0,
  "metadata": {
    "colab": {
      "provenance": [],
      "authorship_tag": "ABX9TyNRkpeVXxKJqLvp9N25GEIi"
    },
    "kernelspec": {
      "name": "python3",
      "display_name": "Python 3"
    },
    "language_info": {
      "name": "python"
    }
  },
  "cells": [
    {
      "cell_type": "markdown",
      "source": [
        "**Amazon Spend Analysis - 2022**"
      ],
      "metadata": {
        "id": "8qLcqnf1hInj"
      }
    },
    {
      "cell_type": "code",
      "source": [
        "import pandas as pd"
      ],
      "metadata": {
        "id": "1d70QNlB_iWr"
      },
      "execution_count": null,
      "outputs": []
    },
    {
      "cell_type": "code",
      "source": [
        "  df = pd.read_csv(\"/content/Amazon Order History - 2022.csv\")\n",
        "  pd.set_option(\"display.max_columns\",5)\n",
        "  df[\"total\"] = df[\"total\"].str.replace('Rs.',\"\")#.astype(float)\n",
        "  df[\"total\"] = df[\"total\"].str.replace('₹',\"\")\n",
        "  df[\"total\"] = df[\"total\"].str.replace(',',\"\").astype(float)\n",
        "\n",
        "  \n",
        "  Total = df[\"total\"].sum()\n",
        "  print(\"Total Spent\",Total)"
      ],
      "metadata": {
        "colab": {
          "base_uri": "https://localhost:8080/"
        },
        "id": "Xe8607bFJEwK",
        "outputId": "b26d7c12-1ff9-47dd-9ebe-6567d5db6ccb"
      },
      "execution_count": null,
      "outputs": [
        {
          "output_type": "stream",
          "name": "stdout",
          "text": [
            "Total Spent 16214.550000000001\n"
          ]
        },
        {
          "output_type": "stream",
          "name": "stderr",
          "text": [
            "<ipython-input-71-d614f0968021>:3: FutureWarning: The default value of regex will change from True to False in a future version.\n",
            "  df[\"total\"] = df[\"total\"].str.replace('Rs.',\"\")#.astype(float)\n"
          ]
        }
      ]
    },
    {
      "cell_type": "code",
      "source": [
        "print(\"MAX\",df[\"total\"].max())\n",
        "print(\"MIN\",df[\"total\"].min())\n",
        "print(\"MEAN\",df[\"total\"].mean())\n",
        "print(\"MEDIAN\",df[\"total\"].median())\n"
      ],
      "metadata": {
        "colab": {
          "base_uri": "https://localhost:8080/"
        },
        "id": "ltegM-SzcJxz",
        "outputId": "05acdde2-912f-43a1-b6ce-39e9b533c1f6"
      },
      "execution_count": null,
      "outputs": [
        {
          "output_type": "stream",
          "name": "stdout",
          "text": [
            "MAX 3499.0\n",
            "MIN 0.0\n",
            "MEAN 675.60625\n",
            "MEDIAN 422.0\n"
          ]
        }
      ]
    },
    {
      "cell_type": "markdown",
      "source": [
        "**Visual Analysis**"
      ],
      "metadata": {
        "id": "TCeoV0gXiXR7"
      }
    },
    {
      "cell_type": "code",
      "source": [
        "df[\"date\"]= pd.to_datetime(df[\"date\"]).dt.date\n",
        "chart = df.plot.bar(x=\"date\",y=\"total\",rot = 0)\n",
        "\n",
        "chart"
      ],
      "metadata": {
        "colab": {
          "base_uri": "https://localhost:8080/",
          "height": 296
        },
        "id": "6XG6JfZQii-Z",
        "outputId": "3d191482-4569-4d6f-c1be-c95207622b46"
      },
      "execution_count": null,
      "outputs": [
        {
          "output_type": "execute_result",
          "data": {
            "text/plain": [
              "<matplotlib.axes._subplots.AxesSubplot at 0x7f117f346730>"
            ]
          },
          "metadata": {},
          "execution_count": 79
        },
        {
          "output_type": "display_data",
          "data": {
            "text/plain": [
              "<Figure size 432x288 with 1 Axes>"
            ],
            "image/png": "[encoded data removed]"
          },
          "metadata": {
            "needs_background": "light"
          }
        }
      ]
    }
  ]
}